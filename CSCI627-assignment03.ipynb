{
 "cells": [
  {
   "cell_type": "markdown",
   "metadata": {},
   "source": [
    "# Learning R\n",
    "This exercises tracks the course [Learning R](https://www.lynda.com/R-tutorials/Up-Running-R/120612-2.html) from lynda.com."
   ]
  },
  {
   "cell_type": "markdown",
   "metadata": {},
   "source": [
    "## Chapter 2: Getting Started"
   ]
  },
  {
   "cell_type": "markdown",
   "metadata": {},
   "source": [
    "<span style=\"color:red\">1. Add 2 2</span>"
   ]
  },
  {
   "cell_type": "code",
   "execution_count": null,
   "metadata": {},
   "outputs": [],
   "source": [
    "2 + 2"
   ]
  },
  {
   "cell_type": "markdown",
   "metadata": {},
   "source": [
    "<span style=\"color:red\">2. Generate numbers from 1 to 100</span>"
   ]
  },
  {
   "cell_type": "code",
   "execution_count": null,
   "metadata": {},
   "outputs": [],
   "source": [
    "seq(from=1,to=100,by=1)"
   ]
  },
  {
   "cell_type": "markdown",
   "metadata": {},
   "source": [
    "<span style=\"color:red\">3. Print the string \"Hello World!\"</span>"
   ]
  },
  {
   "cell_type": "code",
   "execution_count": null,
   "metadata": {},
   "outputs": [],
   "source": [
    "print(\"Hello World!\")"
   ]
  },
  {
   "cell_type": "markdown",
   "metadata": {},
   "source": [
    "<span style=\"color:red\">4. Create a variable `x` with the values of 1 to 5, this is a vector</span>"
   ]
  },
  {
   "cell_type": "code",
   "execution_count": null,
   "metadata": {},
   "outputs": [],
   "source": [
    "x = seq(from=1,to=5,by=1)\n",
    "print(x)"
   ]
  },
  {
   "cell_type": "markdown",
   "metadata": {},
   "source": [
    "<span style=\"color:red\">5. Using the concatenate function `c()` to create a variable y with the values 6 to 10</span>"
   ]
  },
  {
   "cell_type": "code",
   "execution_count": null,
   "metadata": {},
   "outputs": [],
   "source": [
    "y = c(6:10)\n",
    "print(y)"
   ]
  },
  {
   "cell_type": "markdown",
   "metadata": {},
   "source": [
    "<span style=\"color:red\">6. Add variables `x` and `y` together</span>"
   ]
  },
  {
   "cell_type": "code",
   "execution_count": null,
   "metadata": {},
   "outputs": [],
   "source": [
    "x+y\n",
    "print(x)\n",
    "print(y)"
   ]
  },
  {
   "cell_type": "markdown",
   "metadata": {},
   "source": [
    "<span style=\"color:red\">7. Multiply the variable `x` by 2</span>"
   ]
  },
  {
   "cell_type": "code",
   "execution_count": null,
   "metadata": {},
   "outputs": [],
   "source": [
    "x*2\n",
    "print(x)"
   ]
  },
  {
   "cell_type": "markdown",
   "metadata": {},
   "source": [
    "<span style=\"color:red\">8. Read the CSV file *social_network.csv* into a variable `sn.csv`, the data file is located within the Data directory included within this repository, headers are provided in this dataset.</span>"
   ]
  },
  {
   "cell_type": "code",
   "execution_count": null,
   "metadata": {},
   "outputs": [],
   "source": [
    "sn.csv <- read.csv(\"Data/social_network.csv\")\n",
    "head(sn.csv)"
   ]
  },
  {
   "cell_type": "markdown",
   "metadata": {},
   "source": [
    "<span style=\"color:red\">9. Use the `search()` function to see what R packages you have installed.</span>"
   ]
  },
  {
   "cell_type": "code",
   "execution_count": null,
   "metadata": {},
   "outputs": [],
   "source": [
    "search()"
   ]
  },
  {
   "cell_type": "markdown",
   "metadata": {},
   "source": [
    "<span style=\"color:red\">10. Install the package *psych* using the `install.packages()` function.</span>"
   ]
  },
  {
   "cell_type": "code",
   "execution_count": null,
   "metadata": {},
   "outputs": [],
   "source": [
    "install.packages(\"psych\")"
   ]
  },
  {
   "cell_type": "markdown",
   "metadata": {},
   "source": [
    "<span style=\"color:red\">11. Load the library psych so that you can use it within your jupyter notebook. Run the `search()` function again after you load the library to see the psych package now in your list of loaded packages.</span>"
   ]
  },
  {
   "cell_type": "code",
   "execution_count": null,
   "metadata": {},
   "outputs": [],
   "source": [
    "library(psych)\n",
    "search()"
   ]
  },
  {
   "cell_type": "markdown",
   "metadata": {},
   "source": [
    "<span style=\"font-family:verdana;color:green;font-size:200%;text-align:center\">Browse Vignettes Does Not Appear to Work from within Juypter Notebooks as mentioned in the video - you can google on your own any package and find the same information.</span>"
   ]
  },
  {
   "cell_type": "markdown",
   "metadata": {},
   "source": [
    "<span style=\"color:red\">12. Detach they psych package from this notebook (kernel) and run the `search()` function again to see it removed.</span>"
   ]
  },
  {
   "cell_type": "code",
   "execution_count": null,
   "metadata": {},
   "outputs": [],
   "source": [
    "detach(package:psych)\n",
    "search()"
   ]
  },
  {
   "cell_type": "markdown",
   "metadata": {},
   "source": [
    "## Chapter 3: Charts and Statistics for One Variable"
   ]
  },
  {
   "cell_type": "markdown",
   "metadata": {},
   "source": [
    "<span style=\"color:red\">13. Create a `table` that contains how often a site is visited as recorded in the *social_network.csv* file, that we loaded into the variable `sn.csv` earlier and call the variable `site.freq`. Print the variable.</span>"
   ]
  },
  {
   "cell_type": "code",
   "execution_count": null,
   "metadata": {},
   "outputs": [],
   "source": [
    "site.freq <- table(sn.csv$Site)\n",
    "site.freq"
   ]
  },
  {
   "cell_type": "markdown",
   "metadata": {},
   "source": [
    "<span style=\"color:red\">14. Create a barplot of the variable `site.freq`.</span>"
   ]
  },
  {
   "cell_type": "code",
   "execution_count": null,
   "metadata": {},
   "outputs": [],
   "source": [
    "barplot(site.freq)"
   ]
  },
  {
   "cell_type": "markdown",
   "metadata": {},
   "source": [
    "<span style=\"color:red\">15. Redo the barplot with the bars in descending order.</span>"
   ]
  },
  {
   "cell_type": "code",
   "execution_count": null,
   "metadata": {},
   "outputs": [],
   "source": [
    "barplot(site.freq[order(site.freq,decreasing=T)])"
   ]
  },
  {
   "cell_type": "markdown",
   "metadata": {},
   "source": [
    "<span style=\"color:red\">16. Change the barplot from being vertical to horizontal.</span>"
   ]
  },
  {
   "cell_type": "code",
   "execution_count": null,
   "metadata": {},
   "outputs": [],
   "source": [
    "barplot(site.freq[order(site.freq,decreasing=T)],horiz=T)"
   ]
  },
  {
   "cell_type": "markdown",
   "metadata": {},
   "source": [
    "<span style=\"color:red\">17. Create a *color vector* to color the facebook column *Facebook Blue* (67, 103, 178), the LinkedIn column *LinkedIn Blue* (2, 115, 177), the Twitter column *Twitter Blue* (29, 161, 242) and the other columns gray. Use this color vector with barplot to recolor the graph.</span>"
   ]
  },
  {
   "cell_type": "code",
   "execution_count": null,
   "metadata": {},
   "outputs": [],
   "source": [
    "colorScheme <- c(\n",
    "        rgb(67,103,178,maxColorValue=255),\n",
    "        \"gray\",\n",
    "        \"gray\",\n",
    "        \"gray\",\n",
    "        rgb(2, 115, 177,maxColorValue=255),\n",
    "        rgb(29, 161, 242,maxColorValue=255)\n",
    "         )\n",
    "barplot(site.freq[order(site.freq,decreasing=T)],horiz=T,col=colorScheme)"
   ]
  },
  {
   "cell_type": "markdown",
   "metadata": {},
   "source": [
    "<span style=\"color:red\">18. Complete the graph by turning off the border, adding a title *Preferred Social Networking Site\\nA Survey of 202 Users*, changing the x range to 0 - 100, and adding a x label *Number of Users*</span>"
   ]
  },
  {
   "cell_type": "code",
   "execution_count": null,
   "metadata": {},
   "outputs": [],
   "source": [
    "barplot(site.freq[order(site.freq,decreasing=T)],horiz=T,col=colorScheme,border=NA,\n",
    "        main=\"Preferred Social Networking Site\\nA Survey of 202 Users\",\n",
    "        xlim=c(0,100),xlab=\"Number of Users\")"
   ]
  },
  {
   "cell_type": "markdown",
   "metadata": {},
   "source": [
    "<span style=\"font-family:verdana;color:green;font-size:200%;text-align:center\">**Reminder**: you can do `?boxplot` to get more information about the function.</span>\n"
   ]
  },
  {
   "cell_type": "markdown",
   "metadata": {},
   "source": [
    "<span style=\"color:red\">19. Create a histogram of the age of respondents to the social network survey.</span>"
   ]
  },
  {
   "cell_type": "code",
   "execution_count": null,
   "metadata": {
    "scrolled": true
   },
   "outputs": [],
   "source": [
    "hist(sn.csv$Age)"
   ]
  },
  {
   "cell_type": "markdown",
   "metadata": {},
   "source": [
    "<span style=\"color:red\">20. Modify your histogram to change the color to *darkorchid*, add a title *Ages of Respondents\\nSocial Networking Survey of 202 Users*, and put a label on the x axis *Age of Respondents*.</span>"
   ]
  },
  {
   "cell_type": "code",
   "execution_count": null,
   "metadata": {},
   "outputs": [],
   "source": [
    "hist(sn.csv$Age,col=\"darkorchid\",main=\"Ages of Respondents\\nSocial Networking Survey of 202 Users\",xlab=\"Age of Respondents\")"
   ]
  },
  {
   "cell_type": "markdown",
   "metadata": {},
   "source": [
    "<span style=\"color:red\">21. Create a boxplot of the age of respondents to the social network survey.</span>"
   ]
  },
  {
   "cell_type": "code",
   "execution_count": null,
   "metadata": {},
   "outputs": [],
   "source": [
    "boxplot(sn.csv$Age)"
   ]
  },
  {
   "cell_type": "markdown",
   "metadata": {},
   "source": [
    "<span style=\"color:red\">22. Modify your boxplot to change the color to *darkorchid*, add a title *Ages of Respondents\\nSocial Networking Survey of 202 Users*, and put a label on the y axis *Age of Respondents*.</span>"
   ]
  },
  {
   "cell_type": "code",
   "execution_count": null,
   "metadata": {},
   "outputs": [],
   "source": [
    "boxplot(sn.csv$Age,col=\"darkorchid\",main=\"Ages of Respondents\\nSocial Networking Survey of 202 Users\",xlab=\"Age of Respondents\")"
   ]
  },
  {
   "cell_type": "markdown",
   "metadata": {},
   "source": [
    "<span style=\"color:red\">23. Convert the summary of the frequency of visits to a given site into proportion of the total visits represent the result to 3 decimals.<span>"
   ]
  },
  {
   "cell_type": "code",
   "execution_count": null,
   "metadata": {},
   "outputs": [],
   "source": [
    "round(prop.table(site.freq),3)"
   ]
  },
  {
   "cell_type": "markdown",
   "metadata": {},
   "source": [
    "<span style=\"color:red\">24. Display the `summary` of the social network dataset.</span>"
   ]
  },
  {
   "cell_type": "code",
   "execution_count": null,
   "metadata": {},
   "outputs": [],
   "source": [
    "summary(sn.csv)"
   ]
  },
  {
   "cell_type": "markdown",
   "metadata": {},
   "source": [
    "<span style=\"color:red\">25. Show the five number summary (minimum, first quartile, median, third quartile, and maximum) for the age column.</span>"
   ]
  },
  {
   "cell_type": "code",
   "execution_count": null,
   "metadata": {},
   "outputs": [],
   "source": [
    "fivenum(sn.csv$Age)"
   ]
  },
  {
   "cell_type": "markdown",
   "metadata": {},
   "source": [
    "<span style=\"color:red\">26. Using the package *psych*, describe the social network dataset.</span>"
   ]
  },
  {
   "cell_type": "code",
   "execution_count": null,
   "metadata": {},
   "outputs": [],
   "source": [
    "install.packages(\"psych\")"
   ]
  },
  {
   "cell_type": "code",
   "execution_count": null,
   "metadata": {},
   "outputs": [],
   "source": [
    "library(\"psych\")"
   ]
  },
  {
   "cell_type": "code",
   "execution_count": null,
   "metadata": {},
   "outputs": [],
   "source": [
    "describe(sn.csv)"
   ]
  },
  {
   "cell_type": "markdown",
   "metadata": {},
   "source": [
    "# Chapter 4: Modifying Data"
   ]
  },
  {
   "cell_type": "markdown",
   "metadata": {},
   "source": [
    "<span style=\"color:red\">27. Create a histogram of the number of times a person logged into their given site from the social network dataset.</span>"
   ]
  },
  {
   "cell_type": "code",
   "execution_count": null,
   "metadata": {},
   "outputs": [],
   "source": [
    "hist(sn.csv$Times)"
   ]
  },
  {
   "cell_type": "markdown",
   "metadata": {},
   "source": [
    "<span style=\"color:red\">28. Calculate the z scores (standardized scores) for times variable withing the social network dataset and produce a histogram of the z scores.</span>"
   ]
  },
  {
   "cell_type": "code",
   "execution_count": null,
   "metadata": {},
   "outputs": [],
   "source": [
    "times.z <- scale(sn.csv$Times)\n",
    "hist(times.z)"
   ]
  },
  {
   "cell_type": "markdown",
   "metadata": {},
   "source": [
    "<span style=\"color:red\">29. Given the histogram is skewed to one end, try to produce some other variation of the histogram by transforming the data, try converting the data to a log scale and redoing the histogram.</span>"
   ]
  },
  {
   "cell_type": "code",
   "execution_count": null,
   "metadata": {},
   "outputs": [],
   "source": [
    "times.ln0 <- log(sn.csv$Times)\n",
    "hist(times.ln0)"
   ]
  },
  {
   "cell_type": "markdown",
   "metadata": {},
   "source": [
    "<span style=\"color:red\">30. Given you can not calculate the log of 0, modify the code you used in the previous question to add 1 to each the number times a person visited a site each day and replot the histogram.</span>"
   ]
  },
  {
   "cell_type": "code",
   "execution_count": null,
   "metadata": {},
   "outputs": [],
   "source": [
    "times.ln1 <- log(sn.csv$Times+1)\n",
    "hist(times.ln1)"
   ]
  },
  {
   "cell_type": "markdown",
   "metadata": {},
   "source": [
    "<span style=\"color:red\">31. Divide or separate times variable into two categories, either the respondent logged in once or more or they did not.  Print the output, you will actually end up with three states since some respondents did not answer, they will be represented by NA in the output.</span>"
   ]
  },
  {
   "cell_type": "code",
   "execution_count": null,
   "metadata": {},
   "outputs": [],
   "source": [
    "time.gt1 <- ifelse(sn.csv$Times > 1,1,0)\n",
    "time.gt1"
   ]
  },
  {
   "cell_type": "markdown",
   "metadata": {},
   "source": [
    "# Chapter 5: Charts for Associations"
   ]
  },
  {
   "cell_type": "markdown",
   "metadata": {},
   "source": [
    "<span style=\"color:red\">32. Read in the data from the *google correlate dataset* (Data/google_correlate.csv) into a variable `google` and look at the variables it contains, do this using both `names` and `str`.</span>"
   ]
  },
  {
   "cell_type": "code",
   "execution_count": null,
   "metadata": {},
   "outputs": [],
   "source": [
    "gc <- read.csv(\"Data/google_correlate.csv\")\n",
    "names(gc)\n",
    "str(gc)"
   ]
  },
  {
   "cell_type": "markdown",
   "metadata": {},
   "source": [
    "<span style=\"color:red\">33. Create a new variable that is the percentage of people who searched for *data visualization* by region of the country. Using the new variable produce a boxplot.</span>"
   ]
  },
  {
   "cell_type": "code",
   "execution_count": null,
   "metadata": {},
   "outputs": [],
   "source": [
    "viz.reg.dist <- split(gc$data_viz,gc$region)\n",
    "boxplot(viz.reg.dist)"
   ]
  },
  {
   "cell_type": "markdown",
   "metadata": {},
   "source": [
    "<span style=\"color:red\">34. Create a new variable that is the mean of the percentage of people who searched for *data visualization* by region of the country from variable created in the previous cell. Using the new variable produce a barplot where the bars are colored beige and it has a title Average Google Search Share of \"Data Visualization\" by Region of US\" split across two lines. Add a zero line to the plot.</span>"
   ]
  },
  {
   "cell_type": "code",
   "execution_count": null,
   "metadata": {},
   "outputs": [],
   "source": [
    "viz.reg.mean <- sapply(viz.reg.dist,mean)\n",
    "barplot(viz.reg.mean,main=\"Average Google Search Share of\\n\\\"Data Visualization\\\" by Region of US\")\n",
    "abline(h=0)"
   ]
  },
  {
   "cell_type": "markdown",
   "metadata": {},
   "source": [
    "<span style=\"color:red\">35.Produce a scatterplot using the *google correlate dataset*, plotting the relative interest in **data visualization**; that is how often did they search for that term with respect to their other searches, versus the percentage of people in that state with a college degree, add appropriate title and x and y axis labels.</span>"
   ]
  },
  {
   "cell_type": "code",
   "execution_count": null,
   "metadata": {
    "scrolled": true
   },
   "outputs": [],
   "source": [
    "plot(gc$degree,gc$data_viz,\n",
    "    main = \"Interest in Data Vizualization Searches\\nby Percent of Population with College Degrees\",\n",
    "    xlab= \"Population with College Degree\",\n",
    "    ylab=\"Searches for \\\"Data Vizualization\\\"\",\n",
    "    pch=20,\n",
    "     col = \"grey\"\n",
    ")"
   ]
  },
  {
   "cell_type": "markdown",
   "metadata": {},
   "source": [
    "<span style=\"color:red\">36. Using the scatterplot you produced in the previous cell, add a red line that represents a regression line that uses a linear model and a blue line that uses a Lowess smoother.</span>"
   ]
  },
  {
   "cell_type": "code",
   "execution_count": null,
   "metadata": {},
   "outputs": [],
   "source": [
    "plot(gc$degree,gc$data_viz,\n",
    "    main = \"Interest in Data Vizualization Searches\\nby Percent of Population with College Degrees\",\n",
    "    xlab= \"Population with College Degree\",\n",
    "    ylab=\"Searches for \\\"Data Vizualization\\\"\",\n",
    "    pch=20,\n",
    "     col = \"grey\"\n",
    ")\n",
    "abline(lm(gc$data_viz ~ gc$degree),col=\"red\")\n",
    "lines(lowess(gc$degree,gc$data_viz),col=\"blue\")"
   ]
  },
  {
   "cell_type": "markdown",
   "metadata": {},
   "source": [
    "<span style=\"color:red\">37. Create a simple scatterplot matrix using `pair` for the `data_viz`, `degree`, `facebook` and `nba` components of the google correlate dataset, title the graph *Simple Scattterplot Matrix*.</span>"
   ]
  },
  {
   "cell_type": "code",
   "execution_count": null,
   "metadata": {},
   "outputs": [],
   "source": [
    "pairs(~data_viz + degree + facebook + nba, \n",
    "     data = gc,\n",
    "     pch = 20,\n",
    "     main = \"Simple Scatterplot Matrix\"\n",
    "     )"
   ]
  },
  {
   "cell_type": "markdown",
   "metadata": {},
   "source": [
    "<span style=\"color:red\">38. Using the `pairs.panels` function from the *psych* package, produce the same scatter plot as the previous cell. In this graph, color the histogram beige, make the gap between boxes zero and add a title *Enhanced Scatterplot Matrix*.</span>"
   ]
  },
  {
   "cell_type": "code",
   "execution_count": null,
   "metadata": {},
   "outputs": [],
   "source": [
    "pairs.panels(gc[c(3,7,4,5)],gap=0,hist.col='beige',main=\"Enhanced Scatterplot Matrix\")"
   ]
  },
  {
   "cell_type": "code",
   "execution_count": null,
   "metadata": {},
   "outputs": [],
   "source": []
  }
 ],
 "metadata": {
  "kernelspec": {
   "display_name": "R",
   "language": "R",
   "name": "ir"
  },
  "language_info": {
   "codemirror_mode": "r",
   "file_extension": ".r",
   "mimetype": "text/x-r-source",
   "name": "R",
   "pygments_lexer": "r",
   "version": "3.5.1"
  }
 },
 "nbformat": 4,
 "nbformat_minor": 2
}
